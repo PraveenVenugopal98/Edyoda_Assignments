{
 "cells": [
  {
   "cell_type": "code",
   "execution_count": 56,
   "id": "01da7253",
   "metadata": {},
   "outputs": [
    {
     "name": "stdout",
     "output_type": "stream",
     "text": [
      "Enter the list : 12,10,4,5,6\n",
      "[12, 10, 4, 5, 6]\n",
      "The sum of entred list :  37\n"
     ]
    }
   ],
   "source": [
    "#Function to sum all numbers in a list\n",
    "\n",
    "def add():\n",
    "    add=sum(l)\n",
    "    return(add)\n",
    "l=[int(x) for x in input(\"Enter the list : \").split(\",\")]\n",
    "print(l)\n",
    "s=add()\n",
    "print(\"The sum of entred list : \",s)"
   ]
  },
  {
   "cell_type": "code",
   "execution_count": null,
   "id": "fff4a245",
   "metadata": {},
   "outputs": [],
   "source": []
  },
  {
   "cell_type": "code",
   "execution_count": 41,
   "id": "2c1509ae",
   "metadata": {},
   "outputs": [
    {
     "name": "stdout",
     "output_type": "stream",
     "text": [
      "cutie pie\n",
      "eip eituc\n"
     ]
    }
   ],
   "source": [
    "#Funtion to reverse string\n",
    "\n",
    "def reverse():\n",
    "    r=s[::-1]\n",
    "    return(r)\n",
    "s=input()   \n",
    "x=reverse()\n",
    "print(x)"
   ]
  },
  {
   "cell_type": "code",
   "execution_count": 89,
   "id": "bb90d8b7",
   "metadata": {},
   "outputs": [
    {
     "name": "stdout",
     "output_type": "stream",
     "text": [
      "Praveen98Shiva@pec.edu\n",
      "18\n",
      "Upper case characters are :  ['P', 'S']\n",
      "Lower case characters are :  ['r', 'a', 'v', 'e', 'e', 'n', 'h', 'i', 'v', 'a', 'p', 'e', 'c', 'e', 'd', 'u']\n",
      "No. of Upper case characters : 2\n",
      "No. of Lower case characters : 16\n"
     ]
    }
   ],
   "source": [
    "#Function to calculate upper case and lower case letters\n",
    "\n",
    "def case_counter():\n",
    "    for i in range(0,len(s)):\n",
    "        o=ord(s[i])\n",
    "        if o>=65 and o<=90:\n",
    "            U.append(s[i])\n",
    "        elif o>=97 and o<=122:\n",
    "            L.append(s[i])\n",
    "    return(U)\n",
    "    return(L)\n",
    "\n",
    "s=input()\n",
    "U=[]\n",
    "L=[]\n",
    "case_counter()\n",
    "c_U=len(U)\n",
    "c_L=len(L)\n",
    "print(\"Upper case characters are : \",U)\n",
    "print(\"Lower case characters are : \",L)\n",
    "print(\"No. of Upper case characters :\",c_U)\n",
    "print(\"No. of Lower case characters :\",c_L)\n",
    "\n",
    "\n"
   ]
  },
  {
   "cell_type": "code",
   "execution_count": null,
   "id": "eb6c28ff",
   "metadata": {},
   "outputs": [],
   "source": []
  },
  {
   "cell_type": "code",
   "execution_count": null,
   "id": "cdbd4df5",
   "metadata": {},
   "outputs": [],
   "source": []
  }
 ],
 "metadata": {
  "kernelspec": {
   "display_name": "Python 3 (ipykernel)",
   "language": "python",
   "name": "python3"
  },
  "language_info": {
   "codemirror_mode": {
    "name": "ipython",
    "version": 3
   },
   "file_extension": ".py",
   "mimetype": "text/x-python",
   "name": "python",
   "nbconvert_exporter": "python",
   "pygments_lexer": "ipython3",
   "version": "3.9.7"
  }
 },
 "nbformat": 4,
 "nbformat_minor": 5
}
