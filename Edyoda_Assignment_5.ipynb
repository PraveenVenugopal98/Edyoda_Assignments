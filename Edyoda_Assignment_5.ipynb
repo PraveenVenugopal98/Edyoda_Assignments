{
 "cells": [
  {
   "cell_type": "code",
   "execution_count": 3,
   "id": "d9900e1d",
   "metadata": {},
   "outputs": [
    {
     "name": "stdout",
     "output_type": "stream",
     "text": [
      "sample Input:\n",
      "x: 10 \n",
      "n: 2 \n",
      "Sample Output:\n",
      " 100\n"
     ]
    }
   ],
   "source": [
    "class py_solution:\n",
    "\n",
    " def pow(self, x, n):\n",
    "\n",
    "    if x==0 or x==1 or n==1:\n",
    "        return x\n",
    "\n",
    "    if x==-1:\n",
    "        if n%2 ==0:\n",
    "            return 1\n",
    "\n",
    "        else:\n",
    "            return -1\n",
    " \n",
    "    if n==0:\n",
    "        return 1\n",
    "\n",
    "    if n<0:\n",
    "        return 1/self.pow(x,-n)\n",
    "\n",
    "    val = self.pow(x,n//2)\n",
    "\n",
    "    if n%2 ==0:\n",
    "        return val*val\n",
    "\n",
    "    return val*val*x\n",
    "\n",
    "x=10\n",
    "n=2\n",
    "p=pow(x,n)\n",
    "\n",
    "print(\"sample Input:\\nx:\",x,\"\\nn:\",n,\"\\nSample Output:\\n\",p)"
   ]
  },
  {
   "cell_type": "code",
   "execution_count": null,
   "id": "cfd893cc",
   "metadata": {},
   "outputs": [],
   "source": []
  }
 ],
 "metadata": {
  "kernelspec": {
   "display_name": "Python 3 (ipykernel)",
   "language": "python",
   "name": "python3"
  },
  "language_info": {
   "codemirror_mode": {
    "name": "ipython",
    "version": 3
   },
   "file_extension": ".py",
   "mimetype": "text/x-python",
   "name": "python",
   "nbconvert_exporter": "python",
   "pygments_lexer": "ipython3",
   "version": "3.9.7"
  }
 },
 "nbformat": 4,
 "nbformat_minor": 5
}
