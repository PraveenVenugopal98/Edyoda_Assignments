{
 "cells": [
  {
   "cell_type": "code",
   "execution_count": 13,
   "id": "6d44b40b",
   "metadata": {},
   "outputs": [
    {
     "name": "stdout",
     "output_type": "stream",
     "text": [
      "Enter the number of elements in list : 6\n",
      "22 10\n",
      "-3 -3 -29\n",
      "4\n",
      "24 34 -28\n",
      "-2 13 9\n",
      "5 -8 7\n",
      "Entred list of tuples :  [(22, 10), (-3, -3, -29), (4,), (24, 34, -28), (-2, 13, 9), (5, -8, 7)]\n",
      "Sorted list of tuples based on last value :  [(-3, -3, -29), (24, 34, -28), (4,), (5, -8, 7), (-2, 13, 9), (22, 10)]\n"
     ]
    }
   ],
   "source": [
    "#Sorting list of Tuple based on value of last element\n",
    "\n",
    "a=int(input(\"Enter the number of elements in list : \"))\n",
    "x=[]\n",
    "i=0\n",
    "while i<a:\n",
    "    z=[int(x) for x in input().split()]\n",
    "    z=tuple(z)\n",
    "    x.append(z)\n",
    "    i+=1\n",
    "print(\"Entred list of tuples : \", x)\n",
    "r=0\n",
    "b=len(x)\n",
    "w=[]\n",
    "while r<b:\n",
    "    e=0\n",
    "    mini=x[0][-1]\n",
    "    while e<len(x):\n",
    "            u=x[e]\n",
    "            v=u[-1]\n",
    "            if v<=mini:\n",
    "                mini=v\n",
    "                f=e\n",
    "            e=e+1\n",
    "    de=x.pop(f)\n",
    "    w.append(de)\n",
    "    r=r+1\n",
    "print(\"Sorted list of tuples based on last value : \",w)"
   ]
  },
  {
   "cell_type": "code",
   "execution_count": 12,
   "id": "b66a8ede",
   "metadata": {},
   "outputs": [
    {
     "name": "stdout",
     "output_type": "stream",
     "text": [
      "{'a': '97', 'b': '98', 'c': '99', 'd': '100', 'e': '101', 'f': '102', 'g': '103', 'h': '104', 'i': '105', 'j': '106', 'k': '107', 'l': '108', 'm': '109', 'n': '110', 'o': '111', 'p': '112', 'q': '113', 'r': '114', 's': '115', 't': '116', 'u': '117', 'v': '118', 'w': '119', 'x': '120', 'y': '121', 'z': '122'}\n"
     ]
    }
   ],
   "source": [
    "#Write a Python program to print a dictionary whose keys should be the alphabet from a-z \n",
    "#And the value should be corresponding ACII values\n",
    "\n",
    "\n",
    "a = dict()\n",
    "for i in range(97,123):\n",
    "    a[chr(i)] = str(i)\n",
    "print(a)"
   ]
  },
  {
   "cell_type": "code",
   "execution_count": null,
   "id": "618ba544",
   "metadata": {},
   "outputs": [],
   "source": []
  }
 ],
 "metadata": {
  "kernelspec": {
   "display_name": "Python 3 (ipykernel)",
   "language": "python",
   "name": "python3"
  },
  "language_info": {
   "codemirror_mode": {
    "name": "ipython",
    "version": 3
   },
   "file_extension": ".py",
   "mimetype": "text/x-python",
   "name": "python",
   "nbconvert_exporter": "python",
   "pygments_lexer": "ipython3",
   "version": "3.9.7"
  }
 },
 "nbformat": 4,
 "nbformat_minor": 5
}
