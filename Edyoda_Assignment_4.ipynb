{
 "cells": [
  {
   "cell_type": "code",
   "execution_count": 19,
   "id": "e8ffe9a6",
   "metadata": {},
   "outputs": [
    {
     "name": "stdout",
     "output_type": "stream",
     "text": [
      "10\n",
      "35\n"
     ]
    }
   ],
   "source": [
    "#Lambda function to add 25 to given number passed in as argument\n",
    "x=int(input())\n",
    "add=lambda x:x+25\n",
    "print(add(x))"
   ]
  },
  {
   "cell_type": "code",
   "execution_count": 35,
   "id": "65423dce",
   "metadata": {},
   "outputs": [
    {
     "name": "stdout",
     "output_type": "stream",
     "text": [
      "1,2,3,4,5,6,7\n",
      "Entred List :  [1, 2, 3, 4, 5, 6, 7]\n",
      "Triple of list elements :  [3, 6, 9, 12, 15, 18, 21]\n"
     ]
    }
   ],
   "source": [
    "#Triple of all numbers of given list of integers using python map\n",
    "z=[int(x) for x in input().split(\",\")]\n",
    "print(\"Entred List : \",z)\n",
    "t=list(map(lambda z:z*3,z))\n",
    "print(\"Triple of list elements : \",t)\n"
   ]
  },
  {
   "cell_type": "code",
   "execution_count": 37,
   "id": "0603c3e4",
   "metadata": {},
   "outputs": [
    {
     "name": "stdout",
     "output_type": "stream",
     "text": [
      "4,5,2,9\n",
      "Entred List :  [4, 5, 2, 9]\n",
      "Squared element List :  [16, 25, 4, 81]\n"
     ]
    }
   ],
   "source": [
    "#Square elements of list using map function\n",
    "z=[int(x) for x in input().split(\",\")]\n",
    "print(\"Entred List : \",z)\n",
    "s=list(map(lambda z:z**2,z))\n",
    "print(\"Squared element List : \",s)"
   ]
  },
  {
   "cell_type": "code",
   "execution_count": null,
   "id": "02b9b3df",
   "metadata": {},
   "outputs": [],
   "source": []
  }
 ],
 "metadata": {
  "kernelspec": {
   "display_name": "Python 3 (ipykernel)",
   "language": "python",
   "name": "python3"
  },
  "language_info": {
   "codemirror_mode": {
    "name": "ipython",
    "version": 3
   },
   "file_extension": ".py",
   "mimetype": "text/x-python",
   "name": "python",
   "nbconvert_exporter": "python",
   "pygments_lexer": "ipython3",
   "version": "3.9.7"
  }
 },
 "nbformat": 4,
 "nbformat_minor": 5
}
